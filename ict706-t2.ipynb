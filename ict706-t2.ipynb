{
 "cells": [
  {
   "cell_type": "markdown",
   "metadata": {},
   "source": [
    "Before you turn this problem in, make sure everything runs as expected. First, **restart the kernel** (in the menubar, select Kernel$\\rightarrow$Restart) and then **run all cells** (in the menubar, select Cell$\\rightarrow$Run All).\n",
    "\n",
    "Make sure you fill in any place that says `YOUR CODE HERE` or \"YOUR ANSWER HERE\". (After you have done that, you can delete the 'raise NotImplementedError()' line, and then run your code to check that it works).\n",
    "\n",
    "Also, enter your NAME in the next cell.\n"
   ]
  },
  {
   "cell_type": "code",
   "execution_count": 1,
   "metadata": {},
   "outputs": [],
   "source": [
    "NAME = \"\""
   ]
  },
  {
   "cell_type": "markdown",
   "metadata": {},
   "source": [
    "---"
   ]
  },
  {
   "cell_type": "markdown",
   "metadata": {
    "deletable": false,
    "editable": false,
    "nbgrader": {
     "checksum": "01648f2c7a2b86d733aea6aeb05487e8",
     "grade": false,
     "grade_id": "jupyter",
     "locked": true,
     "schema_version": 1,
     "solution": false
    }
   },
   "source": [
    "# ICT706 SouthBank 2020 Semester 1 Task 2\n",
    "\n",
    "This assignment will be done completely inside this Jupyter notebook.\n",
    "\n",
    "### Background\n",
    "A medium-size company has given you one year of data about the online purchases that their customers have made.  They want you to analyse the data using statistical and machine learning techniques and produce:\n",
    "* a prediction algorithm for predicting how much money each customer is likely to spend in a year;\n",
    "* a classification algorithm for predicting which customers will be 'big spenders';\n",
    "* some recommendations on what marketing strategy they should use to attract more 'big spender' customers.\n",
    "\n",
    "### Instructions\n",
    "Follow all the instructions in this notebook to complete these tasks.  Note that some cells contain 'assert' statements - these will automatically mark your work so that you can check that you have done the preceeding steps correctly.  (If they give errors, then go back and correct your previous work until you fix those errors.  Once those 'assert' cells execute without errors, you know that you have achieved the marks for that step.) \n",
    "\n",
    "When you have finished, this notebook is the only file that you will need to submit to Blackboard.\n",
    "\n",
    "Note: If you want some space to try out some Python code of your own, feel free to add extra cells into this notebook.  Just make sure that before you submit your notebook, that those extra cells execute without error, or that you delete them before submitting.\n",
    "\n",
    "### Overview\n",
    "You have five sections to complete in this Notebook (total = 100 marks):\n",
    "* Part A: Load and Clean Data (20 points)\n",
    "* Part B Data Exploration (30 points)\n",
    "* Part C: Predicting Spending Levels (20 points)\n",
    "* Part D: Predicting Big Spenders (20 points)\n",
    "* Part E: Business Recommendations (10 points)"
   ]
  },
  {
   "cell_type": "code",
   "execution_count": 3,
   "metadata": {
    "deletable": false,
    "nbgrader": {
     "checksum": "8e8e40c5312c2594db509b8e4c9f731d",
     "grade": false,
     "grade_id": "imports",
     "locked": false,
     "schema_version": 1,
     "solution": true
    }
   },
   "outputs": [],
   "source": [
    "# add all your imports here.\n",
    "# YOUR CODE HERE\n",
    "raise NotImplementedError()"
   ]
  },
  {
   "cell_type": "markdown",
   "metadata": {
    "deletable": false,
    "editable": false,
    "nbgrader": {
     "checksum": "bbcbe1db68acf76763db3e19b29162d9",
     "grade": false,
     "grade_id": "cell-56b1c85226f679a1",
     "locked": true,
     "schema_version": 1,
     "solution": false
    }
   },
   "source": [
    "---\n",
    "# Part A: Load and Clean Data (20 points)\n",
    "\n",
    "Save your CSV data file into the same folder as this notebook.\n",
    "\n",
    "Write Python code to load your dataset into a Pandas DataFrame called 'sales'."
   ]
  },
  {
   "cell_type": "code",
   "execution_count": 1,
   "metadata": {
    "deletable": false,
    "nbgrader": {
     "checksum": "f1866306460b18ba8285f9073b7870bb",
     "grade": false,
     "grade_id": "read_sales",
     "locked": false,
     "schema_version": 1,
     "solution": true
    }
   },
   "outputs": [],
   "source": [
    "# YOUR CODE HERE\n",
    "raise NotImplementedError()"
   ]
  },
  {
   "cell_type": "markdown",
   "metadata": {
    "deletable": false,
    "editable": false,
    "nbgrader": {
     "checksum": "465472c32b09a4d2bd97325a77ab7dae",
     "grade": false,
     "grade_id": "cell-08fd91c8f6a3f1ab",
     "locked": true,
     "schema_version": 1,
     "solution": false
    }
   },
   "source": [
    "After you have loaded the data correctly, you should have 10,000 rows. \n",
    "Run the following cells and tests to check that you have done this correctly."
   ]
  },
  {
   "cell_type": "code",
   "execution_count": 2,
   "metadata": {
    "deletable": false,
    "editable": false,
    "nbgrader": {
     "checksum": "30e709e48a4861e49bfcd0f34e07af3b",
     "grade": false,
     "grade_id": "cell-802dd990ff7bb39a",
     "locked": true,
     "schema_version": 1,
     "solution": false
    }
   },
   "outputs": [],
   "source": [
    "sales.head()"
   ]
  },
  {
   "cell_type": "code",
   "execution_count": null,
   "metadata": {
    "deletable": false,
    "editable": false,
    "nbgrader": {
     "checksum": "18fa2c34a21ec341e571e978461c2d74",
     "grade": true,
     "grade_id": "data_loaded",
     "locked": false,
     "points": 5,
     "schema_version": 1,
     "solution": false
    }
   },
   "outputs": [],
   "source": [
    "\"\"\"Check that 'sales' has the right shape and number of rows (5 points).\"\"\"\n",
    "assert len(sales.columns) == 10\n",
    "assert sales.columns[0] == \"CustNum\"\n",
    "assert sales.shape == (10000, 10)"
   ]
  },
  {
   "cell_type": "markdown",
   "metadata": {
    "deletable": false,
    "editable": false,
    "nbgrader": {
     "checksum": "290dd5079318da97a499eb5f4e56e8c0",
     "grade": false,
     "grade_id": "cell-cbd5370682d8937a",
     "locked": true,
     "schema_version": 1,
     "solution": false
    }
   },
   "source": [
    "## Cleaning the Data\n",
    "\n",
    "Some of the columns are strings, with dollar signs.  But we need to convert them to numbers (float) so that we can do calculations on them.  The next cell shows what will go wrong if we try doing calculations *before* converting them floats!"
   ]
  },
  {
   "cell_type": "code",
   "execution_count": null,
   "metadata": {
    "deletable": false,
    "editable": false,
    "nbgrader": {
     "checksum": "f37fc394053f62b401f14b6d76a4c800",
     "grade": false,
     "grade_id": "cell-c0f6f29476bf6fc8",
     "locked": true,
     "schema_version": 1,
     "solution": false
    }
   },
   "outputs": [],
   "source": [
    "s2 = sales[\"Spend\"] * 4\n",
    "s2.head()"
   ]
  },
  {
   "cell_type": "code",
   "execution_count": null,
   "metadata": {
    "deletable": false,
    "nbgrader": {
     "checksum": "656807b5b835cf1f7968d34cea95417c",
     "grade": false,
     "grade_id": "remove_dollars",
     "locked": false,
     "schema_version": 1,
     "solution": true
    }
   },
   "outputs": [],
   "source": [
    "# Complete the following remove_dollar function \n",
    "# so that it removes any dollar signs and spaces\n",
    "# and then returns the string as a number (float).\n",
    "def remove_dollar(s):\n",
    "    \"\"\"Removes dollar signs and spaces from s.\n",
    "    Returns it as a float.\n",
    "    \"\"\"\n",
    "    # YOUR CODE HERE\n",
    "    raise NotImplementedError()"
   ]
  },
  {
   "cell_type": "code",
   "execution_count": null,
   "metadata": {
    "deletable": false,
    "editable": false,
    "nbgrader": {
     "checksum": "5f43a2833f4cb63651fe509dadb38345",
     "grade": true,
     "grade_id": "test_remove_dollars",
     "locked": false,
     "points": 5,
     "schema_version": 1,
     "solution": false
    }
   },
   "outputs": [],
   "source": [
    "\"\"\"Check that remove_dollar() removes dollars and spaces properly (5 points).\"\"\"\n",
    "assert remove_dollar(\"12\") == 12.0\n",
    "assert remove_dollar(\"$123\") == 123.0\n",
    "assert remove_dollar(\"  $1234\") == 1234.0\n",
    "assert remove_dollar(\" $42.3 \") == 42.3"
   ]
  },
  {
   "cell_type": "markdown",
   "metadata": {
    "deletable": false,
    "editable": false,
    "nbgrader": {
     "checksum": "0f12e4450e96bddc301b3dd171c141f7",
     "grade": false,
     "grade_id": "cell-2674b20169c63acf",
     "locked": true,
     "schema_version": 1,
     "solution": false
    }
   },
   "source": [
    "## Clean up the Spend columns\n",
    "\n",
    "Apply your remove_dollar function to the \"Spend\" column (every row), and put the cleaned-up float values into a new column of your 'sales' DataFrame called **\"SpendValue\"**.\n",
    "\n",
    "Then do the same for the \"LastSpend\" column and put the float values into a new column called **\"LastSpendValue\"**."
   ]
  },
  {
   "cell_type": "code",
   "execution_count": null,
   "metadata": {
    "deletable": false,
    "nbgrader": {
     "checksum": "2c3bc0d06aef53b2152af1d9de89ac5f",
     "grade": false,
     "grade_id": "clean_spends",
     "locked": false,
     "schema_version": 1,
     "solution": true
    }
   },
   "outputs": [],
   "source": [
    "# YOUR CODE HERE\n",
    "raise NotImplementedError()"
   ]
  },
  {
   "cell_type": "code",
   "execution_count": null,
   "metadata": {
    "deletable": false,
    "editable": false,
    "nbgrader": {
     "checksum": "0a2f7f9048af24c8c44cc2c73e6ea5e9",
     "grade": false,
     "grade_id": "cell-a2b9fa129543cf1f",
     "locked": true,
     "schema_version": 1,
     "solution": false
    }
   },
   "outputs": [],
   "source": [
    "sales.dtypes"
   ]
  },
  {
   "cell_type": "code",
   "execution_count": null,
   "metadata": {
    "deletable": false,
    "editable": false,
    "nbgrader": {
     "checksum": "63d529e18e524b173fd0bcc1425a4120",
     "grade": true,
     "grade_id": "test_clean_spends",
     "locked": true,
     "points": 5,
     "schema_version": 1,
     "solution": false
    }
   },
   "outputs": [],
   "source": [
    "# check the new SpendValue columns (5 points)\n",
    "assert sales.columns.contains(\"SpendValue\")\n",
    "assert sales.columns.contains(\"LastSpendValue\")\n",
    "# check that they are floats\n",
    "assert sales[\"SpendValue\"].dtype == \"float64\"\n",
    "assert sales[\"LastSpendValue\"].dtype == \"float64\"\n",
    "# check that the values are greater than zero.\n",
    "assert (sales[\"SpendValue\"] > 0.0).all()\n",
    "assert (sales[\"LastSpendValue\"] >= 0.0).all()"
   ]
  },
  {
   "cell_type": "markdown",
   "metadata": {
    "deletable": false,
    "editable": false,
    "nbgrader": {
     "checksum": "00496c84c110bdfaa8d1ab0f6a9bfdbc",
     "grade": false,
     "grade_id": "cell-9317487e7c923ef9",
     "locked": true,
     "schema_version": 1,
     "solution": false
    }
   },
   "source": [
    "## Make Sex and State numeric\n",
    "\n",
    "To use the Sex and State columns as input features for the machine learning algorithms in Scikit-Learn they must be numeric.\n",
    "\n",
    "Use the **LabelEncoder** object from the sklearn.preprocessing package to convert the 'Sex' column into an integer column called **\"SexValue\"**.  \n",
    "\n",
    "Also convert the \"State\" column into a integer column called **\"StateValue\"**. "
   ]
  },
  {
   "cell_type": "code",
   "execution_count": null,
   "metadata": {
    "deletable": false,
    "nbgrader": {
     "checksum": "7dd8627d56479eb8657776ba1ea3e8a8",
     "grade": false,
     "grade_id": "sexvalue_statevalue",
     "locked": false,
     "schema_version": 1,
     "solution": true
    }
   },
   "outputs": [],
   "source": [
    "# YOUR CODE HERE\n",
    "raise NotImplementedError()"
   ]
  },
  {
   "cell_type": "code",
   "execution_count": null,
   "metadata": {
    "deletable": false,
    "editable": false,
    "nbgrader": {
     "checksum": "0ae13631cb08d1c0cbff3e5bf3de78f3",
     "grade": false,
     "grade_id": "cell-7282fcbc237bd3c9",
     "locked": true,
     "schema_version": 1,
     "solution": false
    }
   },
   "outputs": [],
   "source": [
    "# see if Sex has been mapped to ints properly?\n",
    "cols = [\"Name\", \"Sex\", \"SexValue\"]\n",
    "sales[cols].head()"
   ]
  },
  {
   "cell_type": "code",
   "execution_count": null,
   "metadata": {
    "deletable": false,
    "editable": false,
    "nbgrader": {
     "checksum": "e49114bef2381621dd5b70443e207dfe",
     "grade": false,
     "grade_id": "cell-c7ca24f1daefbe4c",
     "locked": true,
     "schema_version": 1,
     "solution": false
    }
   },
   "outputs": [],
   "source": [
    "# see if State has been mapped to ints properly?\n",
    "cols = [\"Name\", \"State\", \"StateValue\"]\n",
    "sales[cols].head(10)"
   ]
  },
  {
   "cell_type": "code",
   "execution_count": null,
   "metadata": {
    "deletable": false,
    "editable": false,
    "nbgrader": {
     "checksum": "9568081227ace8e87156458f4c6b4715",
     "grade": true,
     "grade_id": "test_sexvalue_statevalue",
     "locked": true,
     "points": 5,
     "schema_version": 1,
     "solution": false
    }
   },
   "outputs": [],
   "source": [
    "# test the new SexValue and StateValue columns (5 points)\n",
    "assert sales.columns.contains(\"SexValue\")\n",
    "assert sales.columns.contains(\"StateValue\")\n",
    "# check that they are integer\n",
    "assert str(sales[\"SexValue\"].dtype).startswith(\"int\")   # \"int32\" or \"int64\"\n",
    "assert str(sales[\"StateValue\"].dtype).startswith(\"int\") # \"int32\" or \"int64\"\n",
    "# check that the values are greater than zero.\n",
    "assert sales[\"SexValue\"].max() == 1    # 0 and 1 only\n",
    "assert sales[\"StateValue\"].max() == 7  # 7 states in Australia"
   ]
  },
  {
   "cell_type": "code",
   "execution_count": null,
   "metadata": {
    "deletable": false,
    "editable": false,
    "nbgrader": {
     "checksum": "0d29c2c288046210e1115c9171223383",
     "grade": false,
     "grade_id": "cell-251af098637b4c0a",
     "locked": true,
     "schema_version": 1,
     "solution": false
    }
   },
   "outputs": [],
   "source": [
    "# Finally, let us view just the numeric columns.\n",
    "numcols = [\"CustNum\", \"SexValue\", \"Age\", \"StateValue\",\n",
    "           \"Income\", \"Clicks\", \"Purchases\", \"SpendValue\"]\n",
    "sales[numcols].head()"
   ]
  },
  {
   "cell_type": "markdown",
   "metadata": {
    "deletable": false,
    "editable": false,
    "nbgrader": {
     "checksum": "1f77126ed4a81a595f68f8d426ce81c1",
     "grade": false,
     "grade_id": "cell-e459377e95816230",
     "locked": true,
     "schema_version": 1,
     "solution": false
    }
   },
   "source": [
    "---\n",
    "\n",
    "# Part B Data Exploration (30 points)\n",
    "\n",
    "In this section, you will explore the data statistically and visually, to get a feel for what kinds of data you have, and how much people are spending on your web site.\n",
    "\n",
    "## B.1 Data Inspection\n",
    "\n",
    "Start by using the Pandas **describe()** function to analyse all the numeric columns of your 'sales' DataFrame.  Spend some time looking at this and making sure that you understand the average (mean) and range (min and max) of each column."
   ]
  },
  {
   "cell_type": "code",
   "execution_count": null,
   "metadata": {
    "deletable": false,
    "nbgrader": {
     "checksum": "751cce9df93b4a6f2f432502c85ecda9",
     "grade": false,
     "grade_id": "cell-d8bed57ee90f2626",
     "locked": false,
     "schema_version": 1,
     "solution": true
    }
   },
   "outputs": [],
   "source": [
    "# YOUR CODE HERE\n",
    "raise NotImplementedError()"
   ]
  },
  {
   "cell_type": "markdown",
   "metadata": {
    "deletable": false,
    "editable": false,
    "nbgrader": {
     "checksum": "39b26387e6cd9bb0d7b6efa230ac49d5",
     "grade": false,
     "grade_id": "cell-0b2f4c09da525548",
     "locked": true,
     "schema_version": 1,
     "solution": false
    }
   },
   "source": [
    "### Data Inspection Questions\n",
    "\n",
    "In the next cell, write your observations about the \"SpendValue\" and \"Purchases\" columns.  For each column, say what the average value is and discuss what that means in terms of your sales to an average person.  Also discuss the min and max values.  \n",
    "\n",
    "Based on the \"SpendValue\" column, explain how much your \"big spenders\" (the top 25% percent of your clients) are spending each year.  This will be a range of values, such as from 1000 to 2000 dollars.\n",
    "\n",
    "Your discussion must all be in the next cell.  \n",
    "\n",
    "Add three level-2 headings in that cell to break your discussion into topics: \"Purchases column\", \"SpendValue column\", and \"Big Spenders\"."
   ]
  },
  {
   "cell_type": "markdown",
   "metadata": {
    "deletable": false,
    "nbgrader": {
     "checksum": "16a739898cfdc266929e615df1d3fc4d",
     "grade": true,
     "grade_id": "stats_discussion",
     "locked": false,
     "points": 15,
     "schema_version": 1,
     "solution": true
    }
   },
   "source": [
    "### Answer:\n",
    "YOUR ANSWER HERE"
   ]
  },
  {
   "cell_type": "markdown",
   "metadata": {
    "deletable": false,
    "editable": false,
    "nbgrader": {
     "checksum": "371a5c352c0a86a51230d772cbfc3e07",
     "grade": false,
     "grade_id": "cell-42f09627d593627b",
     "locked": true,
     "schema_version": 1,
     "solution": false
    }
   },
   "source": [
    "## B.2 Differences between States\n",
    "\n",
    "We want to know where most of our customers live and whether customers from certain areas spend more or less than average.  Write some Pandas code to calculate and display the total **number of customers** in each Australian state (NSW, QLD, VIC, etc.) and their average **SpendValue**.  \n",
    "\n",
    "Hint: you could do this by *grouping* your 'sales' table, or by *looping* through all the states, or several other ways."
   ]
  },
  {
   "cell_type": "code",
   "execution_count": null,
   "metadata": {
    "deletable": false,
    "nbgrader": {
     "checksum": "e9b627c873d5779bf739755a6e58f9ca",
     "grade": true,
     "grade_id": "state_differences",
     "locked": false,
     "points": 5,
     "schema_version": 1,
     "solution": true
    }
   },
   "outputs": [],
   "source": [
    "# YOUR CODE HERE\n",
    "raise NotImplementedError()"
   ]
  },
  {
   "cell_type": "markdown",
   "metadata": {
    "deletable": false,
    "editable": false,
    "nbgrader": {
     "checksum": "bddc3ccce056677e18683576ba497fc2",
     "grade": false,
     "grade_id": "cell-2048865556d3075a",
     "locked": true,
     "schema_version": 1,
     "solution": false
    }
   },
   "source": [
    "### Graphical Comparison of States\n",
    "\n",
    "Now *graph* your results, so that you can see them visually.\n",
    "\n",
    "NOTE: since the states in Australia have very different populations, you should also calculate and graph the number of customers *relative* to the population of each state (you can use Google to find populations of each state).\n",
    "\n",
    "So you should show at least the following three graphs:\n",
    "* the absolute number of customers in each state;\n",
    "* the number of customers in each state as a percentage of the population of that state;\n",
    "* the average SpendValue of customers in each state (dollars/customer)."
   ]
  },
  {
   "cell_type": "code",
   "execution_count": null,
   "metadata": {
    "deletable": false,
    "nbgrader": {
     "checksum": "8faf0489b53ec64188bb44391e73da2e",
     "grade": true,
     "grade_id": "state_graph",
     "locked": false,
     "points": 5,
     "schema_version": 1,
     "solution": true
    }
   },
   "outputs": [],
   "source": [
    "# YOUR CODE HERE\n",
    "raise NotImplementedError()"
   ]
  },
  {
   "cell_type": "markdown",
   "metadata": {
    "deletable": false,
    "editable": false,
    "nbgrader": {
     "checksum": "0b1e9db97925d4ebcc4c722fd8f24607",
     "grade": false,
     "grade_id": "cell-69d9b3e589675082",
     "locked": true,
     "schema_version": 1,
     "solution": false
    }
   },
   "source": [
    "### Question:\n",
    "Discuss these graphs and explain your conclusions.\n",
    "\n",
    "For example, are there *significant* differences in the average spend in different states?  Are our customer spread evenly across Australia, or concentrated in particular areas? \n",
    "\n",
    "Write your answer in the next cell, and give reasons for your conclusions."
   ]
  },
  {
   "cell_type": "markdown",
   "metadata": {
    "deletable": false,
    "nbgrader": {
     "checksum": "dceefa056e1646739ff0a0a5c1f49bc3",
     "grade": true,
     "grade_id": "state_discussion",
     "locked": false,
     "points": 5,
     "schema_version": 1,
     "solution": true
    }
   },
   "source": [
    "### Answer:\n",
    "\n",
    "YOUR ANSWER HERE"
   ]
  },
  {
   "cell_type": "markdown",
   "metadata": {
    "deletable": false,
    "editable": false,
    "nbgrader": {
     "checksum": "14d556a2b969e8e00c39bcedb2f756ca",
     "grade": false,
     "grade_id": "cell-28db50ebb6228281",
     "locked": true,
     "schema_version": 1,
     "solution": false
    }
   },
   "source": [
    "---\n",
    "\n",
    "# Part C: Predicting Spending Levels (20 points)\n",
    "\n",
    "Using the LinearRegression function from the Scikit-Learn library (**sklearn**), build a machine learning model for predicting the expected **SpendValue** for a customer.  \n",
    "\n",
    "Measure the performance of your model using 10-fold cross-validation with a test set size of 20% and print various measures of how accurate your predictions are."
   ]
  },
  {
   "cell_type": "code",
   "execution_count": null,
   "metadata": {},
   "outputs": [],
   "source": [
    "sales.head()"
   ]
  },
  {
   "cell_type": "code",
   "execution_count": null,
   "metadata": {
    "deletable": false,
    "nbgrader": {
     "checksum": "21bc9fe7e9bfec0a1202fb6b2c3e2398",
     "grade": true,
     "grade_id": "linear_model",
     "locked": false,
     "points": 10,
     "schema_version": 1,
     "solution": true
    }
   },
   "outputs": [],
   "source": [
    "# YOUR CODE HERE\n",
    "raise NotImplementedError()"
   ]
  },
  {
   "cell_type": "markdown",
   "metadata": {
    "deletable": false,
    "editable": false,
    "nbgrader": {
     "checksum": "0fd7767c43cceab4ef450eac964c9d97",
     "grade": false,
     "grade_id": "cell-0a4b5a223c85b28b",
     "locked": true,
     "schema_version": 1,
     "solution": false
    }
   },
   "source": [
    "### Analysis of Results\n",
    "\n",
    "Print out the linear regression coefficients for all the input features, so that you can see which ones are more significant and which ones are unimportant.  \n",
    "\n",
    "Hint 1: Since the scale of the input features is so different (0-1 for sex, 0-160000 for income, etc) multiply the linear regression coefficients by the average value of the corresponding column, to see how many dollars that column contributes to the total predicated-spend answer.\n",
    "\n",
    "Hint 2: Could you graph the predicted and actual spendvalues of the test data, to visually see how good the linear regression results are?"
   ]
  },
  {
   "cell_type": "code",
   "execution_count": null,
   "metadata": {
    "deletable": false,
    "nbgrader": {
     "checksum": "6ca31bc1a6d3cc3ac8d708905b271d08",
     "grade": true,
     "grade_id": "print_coefficients",
     "locked": false,
     "points": 5,
     "schema_version": 1,
     "solution": true
    }
   },
   "outputs": [],
   "source": [
    "# YOUR CODE HERE\n",
    "raise NotImplementedError()"
   ]
  },
  {
   "cell_type": "markdown",
   "metadata": {
    "deletable": false,
    "editable": false,
    "nbgrader": {
     "checksum": "bc14d16e6c7b576d57b83e215aeed5bf",
     "grade": false,
     "grade_id": "cell-28e263a7e0b03cb7",
     "locked": true,
     "schema_version": 1,
     "solution": false
    }
   },
   "source": [
    "### Discussion:\n",
    "\n",
    "Discuss your conclusions about this linear regression model (in the next cell).  Which input features are most significant?"
   ]
  },
  {
   "cell_type": "markdown",
   "metadata": {
    "deletable": false,
    "nbgrader": {
     "checksum": "d3acec970eaec9a4127898684bcfd6c9",
     "grade": true,
     "grade_id": "linear_discussion",
     "locked": false,
     "points": 5,
     "schema_version": 1,
     "solution": true
    }
   },
   "source": [
    "### Answer:\n",
    "YOUR ANSWER HERE"
   ]
  },
  {
   "cell_type": "markdown",
   "metadata": {
    "deletable": false,
    "editable": false,
    "nbgrader": {
     "checksum": "71957761da5a7dc8ccb3daa207ca2693",
     "grade": false,
     "grade_id": "cell-d9b3cf72bb30a5ec",
     "locked": true,
     "schema_version": 1,
     "solution": false
    }
   },
   "source": [
    "---\n",
    "# Part D: Predicting Big Spenders (20 points)\n",
    "\n",
    "In this section we want to build some machine learning models predict if a new customer is likely to be a big spender or not.  This will be a binary outcome (yes or no), so we can use machine learning *classification* algorithms.\n",
    "\n",
    "Remember that our definition of 'Big-Spender' is that it is a client whose annual spending level (**SpendValue**) is in the top 25% of our clients.  So the exact dollar cutoff for big spenders will be different for each student, as each of you are working for a different company and are using a different dataset.\n",
    "\n",
    "Choose two classification algorithms.  Use each one to build and then evaluate a 'big-spender' prediction model."
   ]
  },
  {
   "cell_type": "code",
   "execution_count": null,
   "metadata": {
    "deletable": false,
    "nbgrader": {
     "checksum": "6730b4462b0ad03ca0a417e92ac293d0",
     "grade": true,
     "grade_id": "big_spenders",
     "locked": false,
     "points": 15,
     "schema_version": 1,
     "solution": true
    }
   },
   "outputs": [],
   "source": [
    "# YOUR CODE HERE\n",
    "raise NotImplementedError()"
   ]
  },
  {
   "cell_type": "markdown",
   "metadata": {
    "deletable": false,
    "editable": false,
    "nbgrader": {
     "checksum": "d1a007969cf93d86fbb5b450cfe72bb6",
     "grade": false,
     "grade_id": "classifier_questions",
     "locked": true,
     "schema_version": 1,
     "solution": false
    }
   },
   "source": [
    "### Discussion:\n",
    "\n",
    "Discuss your conclusions about your two classification models (in the next cell).\n",
    "\n",
    "Which classification algorithm gives the more accurate results? \n",
    "\n",
    "How accurate are the results from your best classifier?"
   ]
  },
  {
   "cell_type": "markdown",
   "metadata": {
    "deletable": false,
    "nbgrader": {
     "checksum": "7eb904e6af434d90d9daf95ac32f7407",
     "grade": true,
     "grade_id": "classification_discussion",
     "locked": false,
     "points": 5,
     "schema_version": 1,
     "solution": true
    }
   },
   "source": [
    "### Answer:\n",
    "YOUR ANSWER HERE"
   ]
  },
  {
   "cell_type": "markdown",
   "metadata": {
    "deletable": false,
    "editable": false,
    "nbgrader": {
     "checksum": "c22a525adfb6b35a991089b305180f1a",
     "grade": false,
     "grade_id": "cell-1929850feacf929b",
     "locked": true,
     "schema_version": 1,
     "solution": false
    }
   },
   "source": [
    "---\n",
    "# Part E: Business Recommendations (10 points)\n",
    "\n",
    "The company you are doing this analysis for wants some recommendations from you about how to find new customers who are likely to be big spenders.  They are wondering if they should focus their advertising on a particular gender?  Or people in a given state, such as Victoria, or NSW?  Or aim at demographic groups who have high income level or medium income levels?  Or other strategies?  What recommendations will you give them?  \n",
    "\n",
    "Write about 100 words describing your conclusions from your analysis, and your recommendations for the best strategy for attracting new big-spender customers."
   ]
  },
  {
   "cell_type": "markdown",
   "metadata": {
    "deletable": false,
    "nbgrader": {
     "checksum": "431ae6f33830241660636295628df330",
     "grade": true,
     "grade_id": "business_recommendations",
     "locked": false,
     "points": 10,
     "schema_version": 1,
     "solution": true
    }
   },
   "source": [
    "## Recommendations:\n",
    "YOUR ANSWER HERE"
   ]
  },
  {
   "cell_type": "code",
   "execution_count": null,
   "metadata": {},
   "outputs": [],
   "source": []
  },
  {
   "cell_type": "code",
   "execution_count": null,
   "metadata": {},
   "outputs": [],
   "source": []
  }
 ],
 "metadata": {
  "kernelspec": {
   "display_name": "Python 3",
   "language": "python",
   "name": "python3"
  },
  "language_info": {
   "codemirror_mode": {
    "name": "ipython",
    "version": 3
   },
   "file_extension": ".py",
   "mimetype": "text/x-python",
   "name": "python",
   "nbconvert_exporter": "python",
   "pygments_lexer": "ipython3",
   "version": "3.6.5"
  }
 },
 "nbformat": 4,
 "nbformat_minor": 2
}
