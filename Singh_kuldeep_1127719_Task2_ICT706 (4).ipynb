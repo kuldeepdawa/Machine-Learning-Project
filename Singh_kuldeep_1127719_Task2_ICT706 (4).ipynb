{
 "cells": [
  {
   "cell_type": "markdown",
   "metadata": {},
   "source": [
    "Before you turn this problem in, make sure everything runs as expected. First, **restart the kernel** (in the menubar, select Kernel$\\rightarrow$Restart) and then **run all cells** (in the menubar, select Cell$\\rightarrow$Run All).\n",
    "\n",
    "Make sure you fill in any place that says `YOUR CODE HERE` or \"YOUR ANSWER HERE\". (After you have done that, you can delete the 'raise NotImplementedError()' line, and then run your code to check that it works).\n",
    "\n",
    "Also, enter your NAME in the next cell.\n"
   ]
  },
  {
   "cell_type": "code",
   "execution_count": 12,
   "metadata": {},
   "outputs": [],
   "source": [
    "NAME = \"Kuldeep Singh\""
   ]
  },
  {
   "cell_type": "markdown",
   "metadata": {},
   "source": [
    "---"
   ]
  },
  {
   "cell_type": "markdown",
   "metadata": {
    "deletable": false,
    "editable": false,
    "nbgrader": {
     "checksum": "01648f2c7a2b86d733aea6aeb05487e8",
     "grade": false,
     "grade_id": "jupyter",
     "locked": true,
     "schema_version": 1,
     "solution": false
    }
   },
   "source": [
    "# ICT706 SouthBank 2020 Semester 1 Task 2\n",
    "\n",
    "This assignment will be done completely inside this Jupyter notebook.\n",
    "\n",
    "### Background\n",
    "A medium-size company has given you one year of data about the online purchases that their customers have made.  They want you to analyse the data using statistical and machine learning techniques and produce:\n",
    "* a prediction algorithm for predicting how much money each customer is likely to spend in a year;\n",
    "* a classification algorithm for predicting which customers will be 'big spenders';\n",
    "* some recommendations on what marketing strategy they should use to attract more 'big spender' customers.\n",
    "\n",
    "### Instructions\n",
    "Follow all the instructions in this notebook to complete these tasks.  Note that some cells contain 'assert' statements - these will automatically mark your work so that you can check that you have done the preceeding steps correctly.  (If they give errors, then go back and correct your previous work until you fix those errors.  Once those 'assert' cells execute without errors, you know that you have achieved the marks for that step.) \n",
    "\n",
    "When you have finished, this notebook is the only file that you will need to submit to Blackboard.\n",
    "\n",
    "Note: If you want some space to try out some Python code of your own, feel free to add extra cells into this notebook.  Just make sure that before you submit your notebook, that those extra cells execute without error, or that you delete them before submitting.\n",
    "\n",
    "### Overview\n",
    "You have five sections to complete in this Notebook (total = 100 marks):\n",
    "* Part A: Load and Clean Data (20 points)\n",
    "* Part B Data Exploration (30 points)\n",
    "* Part C: Predicting Spending Levels (20 points)\n",
    "* Part D: Predicting Big Spenders (20 points)\n",
    "* Part E: Business Recommendations (10 points)"
   ]
  },
  {
   "cell_type": "code",
   "execution_count": 13,
   "metadata": {
    "deletable": false,
    "nbgrader": {
     "checksum": "8e8e40c5312c2594db509b8e4c9f731d",
     "grade": false,
     "grade_id": "imports",
     "locked": false,
     "schema_version": 1,
     "solution": true
    }
   },
   "outputs": [
    {
     "name": "stdout",
     "output_type": "stream",
     "text": [
      "Requirement already satisfied: pandas in c:\\users\\kulde\\anaconda3\\lib\\site-packages (1.0.1)\n",
      "Requirement already satisfied: python-dateutil>=2.6.1 in c:\\users\\kulde\\anaconda3\\lib\\site-packages (from pandas) (2.8.1)\n",
      "Requirement already satisfied: pytz>=2017.2 in c:\\users\\kulde\\anaconda3\\lib\\site-packages (from pandas) (2019.3)\n",
      "Requirement already satisfied: numpy>=1.13.3 in c:\\users\\kulde\\anaconda3\\lib\\site-packages (from pandas) (1.18.1)\n",
      "Requirement already satisfied: six>=1.5 in c:\\users\\kulde\\anaconda3\\lib\\site-packages (from python-dateutil>=2.6.1->pandas) (1.14.0)\n",
      "Requirement already satisfied: sklearn in c:\\users\\kulde\\anaconda3\\lib\\site-packages (0.0)\n",
      "Requirement already satisfied: scikit-learn in c:\\users\\kulde\\anaconda3\\lib\\site-packages (from sklearn) (0.22.1)\n",
      "Requirement already satisfied: scipy>=0.17.0 in c:\\users\\kulde\\anaconda3\\lib\\site-packages (from scikit-learn->sklearn) (1.4.1)\n",
      "Requirement already satisfied: numpy>=1.11.0 in c:\\users\\kulde\\anaconda3\\lib\\site-packages (from scikit-learn->sklearn) (1.18.1)\n",
      "Requirement already satisfied: joblib>=0.11 in c:\\users\\kulde\\anaconda3\\lib\\site-packages (from scikit-learn->sklearn) (0.14.1)\n",
      "Requirement already satisfied: matplotlib in c:\\users\\kulde\\anaconda3\\lib\\site-packages (3.1.3)\n",
      "Requirement already satisfied: kiwisolver>=1.0.1 in c:\\users\\kulde\\anaconda3\\lib\\site-packages (from matplotlib) (1.1.0)\n",
      "Requirement already satisfied: python-dateutil>=2.1 in c:\\users\\kulde\\anaconda3\\lib\\site-packages (from matplotlib) (2.8.1)\n",
      "Requirement already satisfied: numpy>=1.11 in c:\\users\\kulde\\anaconda3\\lib\\site-packages (from matplotlib) (1.18.1)\n",
      "Requirement already satisfied: cycler>=0.10 in c:\\users\\kulde\\anaconda3\\lib\\site-packages (from matplotlib) (0.10.0)\n",
      "Requirement already satisfied: pyparsing!=2.0.4,!=2.1.2,!=2.1.6,>=2.0.1 in c:\\users\\kulde\\anaconda3\\lib\\site-packages (from matplotlib) (2.4.6)\n",
      "Requirement already satisfied: setuptools in c:\\users\\kulde\\anaconda3\\lib\\site-packages (from kiwisolver>=1.0.1->matplotlib) (45.2.0.post20200210)\n",
      "Requirement already satisfied: six>=1.5 in c:\\users\\kulde\\anaconda3\\lib\\site-packages (from python-dateutil>=2.1->matplotlib) (1.14.0)\n",
      "Requirement already satisfied: numpy in c:\\users\\kulde\\anaconda3\\lib\\site-packages (1.18.1)\n"
     ]
    }
   ],
   "source": [
    "!pip install pandas\n",
    "!pip install sklearn\n",
    "!pip install matplotlib\n",
    "!pip install numpy\n",
    "import pandas as pd\n",
    "from sklearn import preprocessing\n",
    "import matplotlib.pyplot as plt\n",
    "import numpy as np\n",
    "from sklearn.linear_model import LinearRegression\n",
    "from sklearn.metrics import mean_squared_error, r2_score"
   ]
  },
  {
   "cell_type": "markdown",
   "metadata": {
    "deletable": false,
    "editable": false,
    "nbgrader": {
     "checksum": "bbcbe1db68acf76763db3e19b29162d9",
     "grade": false,
     "grade_id": "cell-56b1c85226f679a1",
     "locked": true,
     "schema_version": 1,
     "solution": false
    }
   },
   "source": [
    "---\n",
    "# Part A: Load and Clean Data (20 points)\n",
    "\n",
    "Save your CSV data file into the same folder as this notebook.\n",
    "\n",
    "Write Python code to load your dataset into a Pandas DataFrame called 'sales'."
   ]
  },
  {
   "cell_type": "code",
   "execution_count": 39,
   "metadata": {
    "deletable": false,
    "nbgrader": {
     "checksum": "f1866306460b18ba8285f9073b7870bb",
     "grade": false,
     "grade_id": "read_sales",
     "locked": false,
     "schema_version": 1,
     "solution": true
    }
   },
   "outputs": [],
   "source": [
    "# YOUR CODE HERE\n",
    "sales = pd.read_csv('GreenHat_Sales.csv')"
   ]
  },
  {
   "cell_type": "markdown",
   "metadata": {
    "deletable": false,
    "editable": false,
    "nbgrader": {
     "checksum": "465472c32b09a4d2bd97325a77ab7dae",
     "grade": false,
     "grade_id": "cell-08fd91c8f6a3f1ab",
     "locked": true,
     "schema_version": 1,
     "solution": false
    }
   },
   "source": [
    "After you have loaded the data correctly, you should have 10,000 rows. \n",
    "Run the following cells and tests to check that you have done this correctly."
   ]
  },
  {
   "cell_type": "code",
   "execution_count": 40,
   "metadata": {
    "deletable": false,
    "editable": false,
    "nbgrader": {
     "checksum": "30e709e48a4861e49bfcd0f34e07af3b",
     "grade": false,
     "grade_id": "cell-802dd990ff7bb39a",
     "locked": true,
     "schema_version": 1,
     "solution": false
    }
   },
   "outputs": [
    {
     "data": {
      "text/html": [
       "<div>\n",
       "<style scoped>\n",
       "    .dataframe tbody tr th:only-of-type {\n",
       "        vertical-align: middle;\n",
       "    }\n",
       "\n",
       "    .dataframe tbody tr th {\n",
       "        vertical-align: top;\n",
       "    }\n",
       "\n",
       "    .dataframe thead th {\n",
       "        text-align: right;\n",
       "    }\n",
       "</style>\n",
       "<table border=\"1\" class=\"dataframe\">\n",
       "  <thead>\n",
       "    <tr style=\"text-align: right;\">\n",
       "      <th></th>\n",
       "      <th>CustNum</th>\n",
       "      <th>Name</th>\n",
       "      <th>Sex</th>\n",
       "      <th>Age</th>\n",
       "      <th>State</th>\n",
       "      <th>Income</th>\n",
       "      <th>Clicks</th>\n",
       "      <th>LastSpend</th>\n",
       "      <th>Purchases</th>\n",
       "      <th>Spend</th>\n",
       "    </tr>\n",
       "  </thead>\n",
       "  <tbody>\n",
       "    <tr>\n",
       "      <th>0</th>\n",
       "      <td>0</td>\n",
       "      <td>Brandon Bender</td>\n",
       "      <td>male</td>\n",
       "      <td>67</td>\n",
       "      <td>NSW</td>\n",
       "      <td>120000</td>\n",
       "      <td>709</td>\n",
       "      <td>$2488.59</td>\n",
       "      <td>8</td>\n",
       "      <td>$1615.00</td>\n",
       "    </tr>\n",
       "    <tr>\n",
       "      <th>1</th>\n",
       "      <td>1</td>\n",
       "      <td>Andre Mccormick</td>\n",
       "      <td>male</td>\n",
       "      <td>38</td>\n",
       "      <td>VIC</td>\n",
       "      <td>140000</td>\n",
       "      <td>630</td>\n",
       "      <td>$4295.34</td>\n",
       "      <td>14</td>\n",
       "      <td>$1927.20</td>\n",
       "    </tr>\n",
       "    <tr>\n",
       "      <th>2</th>\n",
       "      <td>2</td>\n",
       "      <td>Ashley Smith</td>\n",
       "      <td>female</td>\n",
       "      <td>47</td>\n",
       "      <td>NSW</td>\n",
       "      <td>50000</td>\n",
       "      <td>554</td>\n",
       "      <td>$1986.09</td>\n",
       "      <td>8</td>\n",
       "      <td>$1660.80</td>\n",
       "    </tr>\n",
       "    <tr>\n",
       "      <th>3</th>\n",
       "      <td>3</td>\n",
       "      <td>Ann Riley</td>\n",
       "      <td>female</td>\n",
       "      <td>33</td>\n",
       "      <td>NSW</td>\n",
       "      <td>100000</td>\n",
       "      <td>309</td>\n",
       "      <td>$1532.64</td>\n",
       "      <td>10</td>\n",
       "      <td>$3041.10</td>\n",
       "    </tr>\n",
       "    <tr>\n",
       "      <th>4</th>\n",
       "      <td>4</td>\n",
       "      <td>Timothy Chavez</td>\n",
       "      <td>male</td>\n",
       "      <td>49</td>\n",
       "      <td>NSW</td>\n",
       "      <td>140000</td>\n",
       "      <td>520</td>\n",
       "      <td>$2082.08</td>\n",
       "      <td>8</td>\n",
       "      <td>$1764.40</td>\n",
       "    </tr>\n",
       "  </tbody>\n",
       "</table>\n",
       "</div>"
      ],
      "text/plain": [
       "   CustNum             Name     Sex  Age State  Income  Clicks LastSpend  \\\n",
       "0        0   Brandon Bender    male   67   NSW  120000     709  $2488.59   \n",
       "1        1  Andre Mccormick    male   38   VIC  140000     630  $4295.34   \n",
       "2        2     Ashley Smith  female   47   NSW   50000     554  $1986.09   \n",
       "3        3        Ann Riley  female   33   NSW  100000     309  $1532.64   \n",
       "4        4   Timothy Chavez    male   49   NSW  140000     520  $2082.08   \n",
       "\n",
       "   Purchases     Spend  \n",
       "0          8  $1615.00  \n",
       "1         14  $1927.20  \n",
       "2          8  $1660.80  \n",
       "3         10  $3041.10  \n",
       "4          8  $1764.40  "
      ]
     },
     "execution_count": 40,
     "metadata": {},
     "output_type": "execute_result"
    }
   ],
   "source": [
    "sales.head()"
   ]
  },
  {
   "cell_type": "code",
   "execution_count": 42,
   "metadata": {
    "deletable": false,
    "editable": false,
    "nbgrader": {
     "checksum": "18fa2c34a21ec341e571e978461c2d74",
     "grade": true,
     "grade_id": "data_loaded",
     "locked": false,
     "points": 5,
     "schema_version": 1,
     "solution": false
    }
   },
   "outputs": [],
   "source": [
    "\"\"\"Check that 'sales' has the right shape and number of rows (5 points).\"\"\"\n",
    "assert len(sales.columns) == 10\n",
    "assert sales.columns[0] == \"CustNum\"\n",
    "assert sales.shape == (10000, 10)"
   ]
  },
  {
   "cell_type": "markdown",
   "metadata": {
    "deletable": false,
    "editable": false,
    "nbgrader": {
     "checksum": "290dd5079318da97a499eb5f4e56e8c0",
     "grade": false,
     "grade_id": "cell-cbd5370682d8937a",
     "locked": true,
     "schema_version": 1,
     "solution": false
    }
   },
   "source": [
    "## Cleaning the Data\n",
    "\n",
    "Some of the columns are strings, with dollar signs.  But we need to convert them to numbers (float) so that we can do calculations on them.  The next cell shows what will go wrong if we try doing calculations *before* converting them floats!"
   ]
  },
  {
   "cell_type": "code",
   "execution_count": 43,
   "metadata": {
    "deletable": false,
    "editable": false,
    "nbgrader": {
     "checksum": "f37fc394053f62b401f14b6d76a4c800",
     "grade": false,
     "grade_id": "cell-c0f6f29476bf6fc8",
     "locked": true,
     "schema_version": 1,
     "solution": false
    }
   },
   "outputs": [
    {
     "data": {
      "text/plain": [
       "0    $1615.00$1615.00$1615.00$1615.00\n",
       "1    $1927.20$1927.20$1927.20$1927.20\n",
       "2    $1660.80$1660.80$1660.80$1660.80\n",
       "3    $3041.10$3041.10$3041.10$3041.10\n",
       "4    $1764.40$1764.40$1764.40$1764.40\n",
       "Name: Spend, dtype: object"
      ]
     },
     "execution_count": 43,
     "metadata": {},
     "output_type": "execute_result"
    }
   ],
   "source": [
    "s2 = sales[\"Spend\"] * 4\n",
    "s2.head()"
   ]
  },
  {
   "cell_type": "code",
   "execution_count": 44,
   "metadata": {
    "deletable": false,
    "nbgrader": {
     "checksum": "656807b5b835cf1f7968d34cea95417c",
     "grade": false,
     "grade_id": "remove_dollars",
     "locked": false,
     "schema_version": 1,
     "solution": true
    }
   },
   "outputs": [],
   "source": [
    "# Complete the following remove_dollar function \n",
    "# so that it removes any dollar signs and spaces\n",
    "# and then returns the string as a number (float).\n",
    "def remove_dollar(s):\n",
    "    v = \"\"\n",
    "    for i in range(len(s)):\n",
    "        if s[i] !=' ' and s[i] != '$':\n",
    "            v = v + s[i]\n",
    "    return float(v)"
   ]
  },
  {
   "cell_type": "code",
   "execution_count": 21,
   "metadata": {
    "deletable": false,
    "editable": false,
    "nbgrader": {
     "checksum": "5f43a2833f4cb63651fe509dadb38345",
     "grade": true,
     "grade_id": "test_remove_dollars",
     "locked": false,
     "points": 5,
     "schema_version": 1,
     "solution": false
    }
   },
   "outputs": [],
   "source": [
    "\"\"\"Check that remove_dollar() removes dollars and spaces properly (5 points).\"\"\"\n",
    "assert remove_dollar(\"12\") == 12.0\n",
    "assert remove_dollar(\"$123\") == 123.0\n",
    "assert remove_dollar(\"  $1234\") == 1234.0\n",
    "assert remove_dollar(\" $42.3 \") == 42.3"
   ]
  },
  {
   "cell_type": "markdown",
   "metadata": {
    "deletable": false,
    "editable": false,
    "nbgrader": {
     "checksum": "0f12e4450e96bddc301b3dd171c141f7",
     "grade": false,
     "grade_id": "cell-2674b20169c63acf",
     "locked": true,
     "schema_version": 1,
     "solution": false
    }
   },
   "source": [
    "## Clean up the Spend columns\n",
    "\n",
    "Apply your remove_dollar function to the \"Spend\" column (every row), and put the cleaned-up float values into a new column of your 'sales' DataFrame called **\"SpendValue\"**.\n",
    "\n",
    "Then do the same for the \"LastSpend\" column and put the float values into a new column called **\"LastSpendValue\"**."
   ]
  },
  {
   "cell_type": "code",
   "execution_count": 45,
   "metadata": {
    "deletable": false,
    "nbgrader": {
     "checksum": "2c3bc0d06aef53b2152af1d9de89ac5f",
     "grade": false,
     "grade_id": "clean_spends",
     "locked": false,
     "schema_version": 1,
     "solution": true
    }
   },
   "outputs": [],
   "source": [
    "# YOUR CODE HERE\n",
    "SpendValue = []\n",
    "for i in range (10000):\n",
    "    SpendValue.append(remove_dollar(sales.iloc[i,9]))\n",
    "sales ['SpendValue'] = SpendValue\n",
    "LastSpendValue = []\n",
    "for i in range (10000):\n",
    "    LastSpendValue.append(remove_dollar(sales.iloc[i,7]))\n",
    "sales ['LastSpendValue'] = LastSpendValue"
   ]
  },
  {
   "cell_type": "code",
   "execution_count": 24,
   "metadata": {
    "deletable": false,
    "editable": false,
    "nbgrader": {
     "checksum": "0a2f7f9048af24c8c44cc2c73e6ea5e9",
     "grade": false,
     "grade_id": "cell-a2b9fa129543cf1f",
     "locked": true,
     "schema_version": 1,
     "solution": false
    }
   },
   "outputs": [
    {
     "data": {
      "text/plain": [
       "CustNum             int64\n",
       "Name               object\n",
       "Sex                object\n",
       "Age                 int64\n",
       "State              object\n",
       "Income              int64\n",
       "Clicks              int64\n",
       "LastSpend          object\n",
       "Purchases           int64\n",
       "Spend              object\n",
       "SpendValue        float64\n",
       "LastSpendValue    float64\n",
       "dtype: object"
      ]
     },
     "execution_count": 24,
     "metadata": {},
     "output_type": "execute_result"
    }
   ],
   "source": [
    "sales.dtypes"
   ]
  },
  {
   "cell_type": "code",
   "execution_count": 25,
   "metadata": {
    "deletable": false,
    "editable": false,
    "nbgrader": {
     "checksum": "63d529e18e524b173fd0bcc1425a4120",
     "grade": true,
     "grade_id": "test_clean_spends",
     "locked": true,
     "points": 5,
     "schema_version": 1,
     "solution": false
    }
   },
   "outputs": [
    {
     "ename": "AttributeError",
     "evalue": "'Index' object has no attribute 'contains'",
     "output_type": "error",
     "traceback": [
      "\u001b[1;31m---------------------------------------------------------------------------\u001b[0m",
      "\u001b[1;31mAttributeError\u001b[0m                            Traceback (most recent call last)",
      "\u001b[1;32m<ipython-input-25-12337305fbc6>\u001b[0m in \u001b[0;36m<module>\u001b[1;34m\u001b[0m\n\u001b[0;32m      1\u001b[0m \u001b[1;31m# check the new SpendValue columns (5 points)\u001b[0m\u001b[1;33m\u001b[0m\u001b[1;33m\u001b[0m\u001b[1;33m\u001b[0m\u001b[0m\n\u001b[1;32m----> 2\u001b[1;33m \u001b[1;32massert\u001b[0m \u001b[0msales\u001b[0m\u001b[1;33m.\u001b[0m\u001b[0mcolumns\u001b[0m\u001b[1;33m.\u001b[0m\u001b[0mcontains\u001b[0m\u001b[1;33m(\u001b[0m\u001b[1;34m\"SpendValue\"\u001b[0m\u001b[1;33m)\u001b[0m\u001b[1;33m\u001b[0m\u001b[1;33m\u001b[0m\u001b[0m\n\u001b[0m\u001b[0;32m      3\u001b[0m \u001b[1;32massert\u001b[0m \u001b[0msales\u001b[0m\u001b[1;33m.\u001b[0m\u001b[0mcolumns\u001b[0m\u001b[1;33m.\u001b[0m\u001b[0mcontains\u001b[0m\u001b[1;33m(\u001b[0m\u001b[1;34m\"LastSpendValue\"\u001b[0m\u001b[1;33m)\u001b[0m\u001b[1;33m\u001b[0m\u001b[1;33m\u001b[0m\u001b[0m\n\u001b[0;32m      4\u001b[0m \u001b[1;31m# check that they are floats\u001b[0m\u001b[1;33m\u001b[0m\u001b[1;33m\u001b[0m\u001b[1;33m\u001b[0m\u001b[0m\n\u001b[0;32m      5\u001b[0m \u001b[1;32massert\u001b[0m \u001b[0msales\u001b[0m\u001b[1;33m[\u001b[0m\u001b[1;34m\"SpendValue\"\u001b[0m\u001b[1;33m]\u001b[0m\u001b[1;33m.\u001b[0m\u001b[0mdtype\u001b[0m \u001b[1;33m==\u001b[0m \u001b[1;34m\"float64\"\u001b[0m\u001b[1;33m\u001b[0m\u001b[1;33m\u001b[0m\u001b[0m\n",
      "\u001b[1;31mAttributeError\u001b[0m: 'Index' object has no attribute 'contains'"
     ]
    }
   ],
   "source": [
    "# check the new SpendValue columns (5 points)\n",
    "assert sales.columns.contains(\"SpendValue\")\n",
    "assert sales.columns.contains(\"LastSpendValue\")\n",
    "# check that they are floats\n",
    "assert sales[\"SpendValue\"].dtype == \"float64\"\n",
    "assert sales[\"LastSpendValue\"].dtype == \"float64\"\n",
    "# check that the values are greater than zero.\n",
    "assert (sales[\"SpendValue\"] > 0.0).all()\n",
    "assert (sales[\"LastSpendValue\"] >= 0.0).all()"
   ]
  },
  {
   "cell_type": "markdown",
   "metadata": {
    "deletable": false,
    "editable": false,
    "nbgrader": {
     "checksum": "00496c84c110bdfaa8d1ab0f6a9bfdbc",
     "grade": false,
     "grade_id": "cell-9317487e7c923ef9",
     "locked": true,
     "schema_version": 1,
     "solution": false
    }
   },
   "source": [
    "## Make Sex and State numeric\n",
    "\n",
    "To use the Sex and State columns as input features for the machine learning algorithms in Scikit-Learn they must be numeric.\n",
    "\n",
    "Use the **LabelEncoder** object from the sklearn.preprocessing package to convert the 'Sex' column into an integer column called **\"SexValue\"**.  \n",
    "\n",
    "Also convert the \"State\" column into a integer column called **\"StateValue\"**. "
   ]
  },
  {
   "cell_type": "code",
   "execution_count": 46,
   "metadata": {
    "deletable": false,
    "nbgrader": {
     "checksum": "7dd8627d56479eb8657776ba1ea3e8a8",
     "grade": false,
     "grade_id": "sexvalue_statevalue",
     "locked": false,
     "schema_version": 1,
     "solution": true
    }
   },
   "outputs": [],
   "source": [
    "# YOUR CODE HERE\n",
    "labelencoder = preprocessing.LabelEncoder()\n",
    "sales['SexValue'] = labelencoder.fit_transform(sales['Sex'])\n",
    "sales['StateValue'] = labelencoder.fit_transform(sales['State'])"
   ]
  },
  {
   "cell_type": "code",
   "execution_count": 47,
   "metadata": {
    "deletable": false,
    "editable": false,
    "nbgrader": {
     "checksum": "0ae13631cb08d1c0cbff3e5bf3de78f3",
     "grade": false,
     "grade_id": "cell-7282fcbc237bd3c9",
     "locked": true,
     "schema_version": 1,
     "solution": false
    }
   },
   "outputs": [
    {
     "data": {
      "text/html": [
       "<div>\n",
       "<style scoped>\n",
       "    .dataframe tbody tr th:only-of-type {\n",
       "        vertical-align: middle;\n",
       "    }\n",
       "\n",
       "    .dataframe tbody tr th {\n",
       "        vertical-align: top;\n",
       "    }\n",
       "\n",
       "    .dataframe thead th {\n",
       "        text-align: right;\n",
       "    }\n",
       "</style>\n",
       "<table border=\"1\" class=\"dataframe\">\n",
       "  <thead>\n",
       "    <tr style=\"text-align: right;\">\n",
       "      <th></th>\n",
       "      <th>Name</th>\n",
       "      <th>Sex</th>\n",
       "      <th>SexValue</th>\n",
       "    </tr>\n",
       "  </thead>\n",
       "  <tbody>\n",
       "    <tr>\n",
       "      <th>0</th>\n",
       "      <td>Brandon Bender</td>\n",
       "      <td>male</td>\n",
       "      <td>1</td>\n",
       "    </tr>\n",
       "    <tr>\n",
       "      <th>1</th>\n",
       "      <td>Andre Mccormick</td>\n",
       "      <td>male</td>\n",
       "      <td>1</td>\n",
       "    </tr>\n",
       "    <tr>\n",
       "      <th>2</th>\n",
       "      <td>Ashley Smith</td>\n",
       "      <td>female</td>\n",
       "      <td>0</td>\n",
       "    </tr>\n",
       "    <tr>\n",
       "      <th>3</th>\n",
       "      <td>Ann Riley</td>\n",
       "      <td>female</td>\n",
       "      <td>0</td>\n",
       "    </tr>\n",
       "    <tr>\n",
       "      <th>4</th>\n",
       "      <td>Timothy Chavez</td>\n",
       "      <td>male</td>\n",
       "      <td>1</td>\n",
       "    </tr>\n",
       "  </tbody>\n",
       "</table>\n",
       "</div>"
      ],
      "text/plain": [
       "              Name     Sex  SexValue\n",
       "0   Brandon Bender    male         1\n",
       "1  Andre Mccormick    male         1\n",
       "2     Ashley Smith  female         0\n",
       "3        Ann Riley  female         0\n",
       "4   Timothy Chavez    male         1"
      ]
     },
     "execution_count": 47,
     "metadata": {},
     "output_type": "execute_result"
    }
   ],
   "source": [
    "# see if Sex has been mapped to ints properly?\n",
    "cols = [\"Name\", \"Sex\", \"SexValue\"]\n",
    "sales[cols].head()"
   ]
  },
  {
   "cell_type": "code",
   "execution_count": 48,
   "metadata": {
    "deletable": false,
    "editable": false,
    "nbgrader": {
     "checksum": "e49114bef2381621dd5b70443e207dfe",
     "grade": false,
     "grade_id": "cell-c7ca24f1daefbe4c",
     "locked": true,
     "schema_version": 1,
     "solution": false
    }
   },
   "outputs": [
    {
     "data": {
      "text/html": [
       "<div>\n",
       "<style scoped>\n",
       "    .dataframe tbody tr th:only-of-type {\n",
       "        vertical-align: middle;\n",
       "    }\n",
       "\n",
       "    .dataframe tbody tr th {\n",
       "        vertical-align: top;\n",
       "    }\n",
       "\n",
       "    .dataframe thead th {\n",
       "        text-align: right;\n",
       "    }\n",
       "</style>\n",
       "<table border=\"1\" class=\"dataframe\">\n",
       "  <thead>\n",
       "    <tr style=\"text-align: right;\">\n",
       "      <th></th>\n",
       "      <th>Name</th>\n",
       "      <th>State</th>\n",
       "      <th>StateValue</th>\n",
       "    </tr>\n",
       "  </thead>\n",
       "  <tbody>\n",
       "    <tr>\n",
       "      <th>0</th>\n",
       "      <td>Brandon Bender</td>\n",
       "      <td>NSW</td>\n",
       "      <td>1</td>\n",
       "    </tr>\n",
       "    <tr>\n",
       "      <th>1</th>\n",
       "      <td>Andre Mccormick</td>\n",
       "      <td>VIC</td>\n",
       "      <td>6</td>\n",
       "    </tr>\n",
       "    <tr>\n",
       "      <th>2</th>\n",
       "      <td>Ashley Smith</td>\n",
       "      <td>NSW</td>\n",
       "      <td>1</td>\n",
       "    </tr>\n",
       "    <tr>\n",
       "      <th>3</th>\n",
       "      <td>Ann Riley</td>\n",
       "      <td>NSW</td>\n",
       "      <td>1</td>\n",
       "    </tr>\n",
       "    <tr>\n",
       "      <th>4</th>\n",
       "      <td>Timothy Chavez</td>\n",
       "      <td>NSW</td>\n",
       "      <td>1</td>\n",
       "    </tr>\n",
       "    <tr>\n",
       "      <th>5</th>\n",
       "      <td>John Bennett</td>\n",
       "      <td>VIC</td>\n",
       "      <td>6</td>\n",
       "    </tr>\n",
       "    <tr>\n",
       "      <th>6</th>\n",
       "      <td>Teresa Wise</td>\n",
       "      <td>QLD</td>\n",
       "      <td>3</td>\n",
       "    </tr>\n",
       "    <tr>\n",
       "      <th>7</th>\n",
       "      <td>Andrew Nelson</td>\n",
       "      <td>QLD</td>\n",
       "      <td>3</td>\n",
       "    </tr>\n",
       "    <tr>\n",
       "      <th>8</th>\n",
       "      <td>Jon Aguilar</td>\n",
       "      <td>NSW</td>\n",
       "      <td>1</td>\n",
       "    </tr>\n",
       "    <tr>\n",
       "      <th>9</th>\n",
       "      <td>Priscilla Briggs</td>\n",
       "      <td>NSW</td>\n",
       "      <td>1</td>\n",
       "    </tr>\n",
       "  </tbody>\n",
       "</table>\n",
       "</div>"
      ],
      "text/plain": [
       "               Name State  StateValue\n",
       "0    Brandon Bender   NSW           1\n",
       "1   Andre Mccormick   VIC           6\n",
       "2      Ashley Smith   NSW           1\n",
       "3         Ann Riley   NSW           1\n",
       "4    Timothy Chavez   NSW           1\n",
       "5      John Bennett   VIC           6\n",
       "6       Teresa Wise   QLD           3\n",
       "7     Andrew Nelson   QLD           3\n",
       "8       Jon Aguilar   NSW           1\n",
       "9  Priscilla Briggs   NSW           1"
      ]
     },
     "execution_count": 48,
     "metadata": {},
     "output_type": "execute_result"
    }
   ],
   "source": [
    "# see if State has been mapped to ints properly?\n",
    "cols = [\"Name\", \"State\", \"StateValue\"]\n",
    "sales[cols].head(10)"
   ]
  },
  {
   "cell_type": "code",
   "execution_count": null,
   "metadata": {
    "deletable": false,
    "editable": false,
    "nbgrader": {
     "checksum": "9568081227ace8e87156458f4c6b4715",
     "grade": true,
     "grade_id": "test_sexvalue_statevalue",
     "locked": true,
     "points": 5,
     "schema_version": 1,
     "solution": false
    }
   },
   "outputs": [],
   "source": [
    "# test the new SexValue and StateValue columns (5 points)\n",
    "assert sales.columns.contains(\"SexValue\")\n",
    "assert sales.columns.contains(\"StateValue\")\n",
    "# check that they are integer\n",
    "assert str(sales[\"SexValue\"].dtype).startswith(\"int\")   # \"int32\" or \"int64\"\n",
    "assert str(sales[\"StateValue\"].dtype).startswith(\"int\") # \"int32\" or \"int64\"\n",
    "# check that the values are greater than zero.\n",
    "assert sales[\"SexValue\"].max() == 1    # 0 and 1 only\n",
    "assert sales[\"StateValue\"].max() == 7  # 7 states in Australia"
   ]
  },
  {
   "cell_type": "code",
   "execution_count": 49,
   "metadata": {
    "deletable": false,
    "editable": false,
    "nbgrader": {
     "checksum": "0d29c2c288046210e1115c9171223383",
     "grade": false,
     "grade_id": "cell-251af098637b4c0a",
     "locked": true,
     "schema_version": 1,
     "solution": false
    }
   },
   "outputs": [
    {
     "data": {
      "text/html": [
       "<div>\n",
       "<style scoped>\n",
       "    .dataframe tbody tr th:only-of-type {\n",
       "        vertical-align: middle;\n",
       "    }\n",
       "\n",
       "    .dataframe tbody tr th {\n",
       "        vertical-align: top;\n",
       "    }\n",
       "\n",
       "    .dataframe thead th {\n",
       "        text-align: right;\n",
       "    }\n",
       "</style>\n",
       "<table border=\"1\" class=\"dataframe\">\n",
       "  <thead>\n",
       "    <tr style=\"text-align: right;\">\n",
       "      <th></th>\n",
       "      <th>CustNum</th>\n",
       "      <th>SexValue</th>\n",
       "      <th>Age</th>\n",
       "      <th>StateValue</th>\n",
       "      <th>Income</th>\n",
       "      <th>Clicks</th>\n",
       "      <th>Purchases</th>\n",
       "      <th>SpendValue</th>\n",
       "    </tr>\n",
       "  </thead>\n",
       "  <tbody>\n",
       "    <tr>\n",
       "      <th>0</th>\n",
       "      <td>0</td>\n",
       "      <td>1</td>\n",
       "      <td>67</td>\n",
       "      <td>1</td>\n",
       "      <td>120000</td>\n",
       "      <td>709</td>\n",
       "      <td>8</td>\n",
       "      <td>1615.0</td>\n",
       "    </tr>\n",
       "    <tr>\n",
       "      <th>1</th>\n",
       "      <td>1</td>\n",
       "      <td>1</td>\n",
       "      <td>38</td>\n",
       "      <td>6</td>\n",
       "      <td>140000</td>\n",
       "      <td>630</td>\n",
       "      <td>14</td>\n",
       "      <td>1927.2</td>\n",
       "    </tr>\n",
       "    <tr>\n",
       "      <th>2</th>\n",
       "      <td>2</td>\n",
       "      <td>0</td>\n",
       "      <td>47</td>\n",
       "      <td>1</td>\n",
       "      <td>50000</td>\n",
       "      <td>554</td>\n",
       "      <td>8</td>\n",
       "      <td>1660.8</td>\n",
       "    </tr>\n",
       "    <tr>\n",
       "      <th>3</th>\n",
       "      <td>3</td>\n",
       "      <td>0</td>\n",
       "      <td>33</td>\n",
       "      <td>1</td>\n",
       "      <td>100000</td>\n",
       "      <td>309</td>\n",
       "      <td>10</td>\n",
       "      <td>3041.1</td>\n",
       "    </tr>\n",
       "    <tr>\n",
       "      <th>4</th>\n",
       "      <td>4</td>\n",
       "      <td>1</td>\n",
       "      <td>49</td>\n",
       "      <td>1</td>\n",
       "      <td>140000</td>\n",
       "      <td>520</td>\n",
       "      <td>8</td>\n",
       "      <td>1764.4</td>\n",
       "    </tr>\n",
       "  </tbody>\n",
       "</table>\n",
       "</div>"
      ],
      "text/plain": [
       "   CustNum  SexValue  Age  StateValue  Income  Clicks  Purchases  SpendValue\n",
       "0        0         1   67           1  120000     709          8      1615.0\n",
       "1        1         1   38           6  140000     630         14      1927.2\n",
       "2        2         0   47           1   50000     554          8      1660.8\n",
       "3        3         0   33           1  100000     309         10      3041.1\n",
       "4        4         1   49           1  140000     520          8      1764.4"
      ]
     },
     "execution_count": 49,
     "metadata": {},
     "output_type": "execute_result"
    }
   ],
   "source": [
    "# Finally, let us view just the numeric columns.\n",
    "numcols = [\"CustNum\", \"SexValue\", \"Age\", \"StateValue\",\n",
    "           \"Income\", \"Clicks\", \"Purchases\", \"SpendValue\"]\n",
    "sales[numcols].head()"
   ]
  },
  {
   "cell_type": "markdown",
   "metadata": {
    "deletable": false,
    "editable": false,
    "nbgrader": {
     "checksum": "1f77126ed4a81a595f68f8d426ce81c1",
     "grade": false,
     "grade_id": "cell-e459377e95816230",
     "locked": true,
     "schema_version": 1,
     "solution": false
    }
   },
   "source": [
    "---\n",
    "\n",
    "# Part B Data Exploration (30 points)\n",
    "\n",
    "In this section, you will explore the data statistically and visually, to get a feel for what kinds of data you have, and how much people are spending on your web site.\n",
    "\n",
    "## B.1 Data Inspection\n",
    "\n",
    "Start by using the Pandas **describe()** function to analyse all the numeric columns of your 'sales' DataFrame.  Spend some time looking at this and making sure that you understand the average (mean) and range (min and max) of each column."
   ]
  },
  {
   "cell_type": "code",
   "execution_count": 51,
   "metadata": {
    "deletable": false,
    "nbgrader": {
     "checksum": "751cce9df93b4a6f2f432502c85ecda9",
     "grade": false,
     "grade_id": "cell-d8bed57ee90f2626",
     "locked": false,
     "schema_version": 1,
     "solution": true
    }
   },
   "outputs": [
    {
     "name": "stdout",
     "output_type": "stream",
     "text": [
      "Mean of SpendValue:  1898.6619550000028 $\n",
      "Mean of Purchases:  8.4527\n",
      "Range of Big Spenders:  0       1615.00\n",
      "1       1927.20\n",
      "2       1660.80\n",
      "3       3041.10\n",
      "4       1764.40\n",
      "         ...   \n",
      "2495    3495.90\n",
      "2496     934.95\n",
      "2497    2224.90\n",
      "2498    1549.60\n",
      "2499    3759.20\n",
      "Name: SpendValue, Length: 2500, dtype: float64 $- 0       1615.00\n",
      "1       1927.20\n",
      "2       1660.80\n",
      "3       3041.10\n",
      "4       1764.40\n",
      "         ...   \n",
      "2495    3495.90\n",
      "2496     934.95\n",
      "2497    2224.90\n",
      "2498    1549.60\n",
      "2499    3759.20\n",
      "Name: SpendValue, Length: 2500, dtype: float64 $\n"
     ]
    }
   ],
   "source": [
    "# YOUR CODE HERE\n",
    "print(\"Mean of SpendValue: \",sales['SpendValue'].mean(),\"$\") ## \"Mean of SpendValue:\n",
    "print(\"Mean of Purchases: \",sales['Purchases'].mean())  ##Mean of Purchases:\n",
    "min = (sales['SpendValue'].head(2500))\n",
    "max = (sales['SpendValue'].head(2500))\n",
    "print(\"Range of Big Spenders: \", min,\"$-\",max,\"$\") ##Range of Big Spenders:\n",
    "#raise NotImplementedError()"
   ]
  },
  {
   "cell_type": "markdown",
   "metadata": {
    "deletable": false,
    "editable": false,
    "nbgrader": {
     "checksum": "39b26387e6cd9bb0d7b6efa230ac49d5",
     "grade": false,
     "grade_id": "cell-0b2f4c09da525548",
     "locked": true,
     "schema_version": 1,
     "solution": false
    }
   },
   "source": [
    "### Data Inspection Questions\n",
    "\n",
    "In the next cell, write your observations about the \"SpendValue\" and \"Purchases\" columns.  For each column, say what the average value is and discuss what that means in terms of your sales to an average person.  Also discuss the min and max values.  \n",
    "\n",
    "Based on the \"SpendValue\" column, explain how much your \"big spenders\" (the top 25% percent of your clients) are spending each year.  This will be a range of values, such as from 1000 to 2000 dollars.\n",
    "\n",
    "Your discussion must all be in the next cell.  \n",
    "\n",
    "Add three level-2 headings in that cell to break your discussion into topics: \"Purchases column\", \"SpendValue column\", and \"Big Spenders\"."
   ]
  },
  {
   "cell_type": "markdown",
   "metadata": {
    "deletable": false,
    "nbgrader": {
     "checksum": "16a739898cfdc266929e615df1d3fc4d",
     "grade": true,
     "grade_id": "stats_discussion",
     "locked": false,
     "points": 15,
     "schema_version": 1,
     "solution": true
    }
   },
   "source": [
    "### Answer:\n",
    "YOUR ANSWER HERE"
   ]
  },
  {
   "cell_type": "code",
   "execution_count": null,
   "metadata": {},
   "outputs": [],
   "source": [
    "YOUR ANSWER HERE Mean of SpendValue: 1898.661955  MeanofPurchases:8.4527RangeofBigSpenders:324.0 - 5880.0 $"
   ]
  },
  {
   "cell_type": "markdown",
   "metadata": {
    "deletable": false,
    "editable": false,
    "nbgrader": {
     "checksum": "371a5c352c0a86a51230d772cbfc3e07",
     "grade": false,
     "grade_id": "cell-42f09627d593627b",
     "locked": true,
     "schema_version": 1,
     "solution": false
    }
   },
   "source": [
    "## B.2 Differences between States\n",
    "\n",
    "We want to know where most of our customers live and whether customers from certain areas spend more or less than average.  Write some Pandas code to calculate and display the total **number of customers** in each Australian state (NSW, QLD, VIC, etc.) and their average **SpendValue**.  \n",
    "\n",
    "Hint: you could do this by *grouping* your 'sales' table, or by *looping* through all the states, or several other ways."
   ]
  },
  {
   "cell_type": "code",
   "execution_count": 52,
   "metadata": {
    "deletable": false,
    "nbgrader": {
     "checksum": "e9b627c873d5779bf739755a6e58f9ca",
     "grade": true,
     "grade_id": "state_differences",
     "locked": false,
     "points": 5,
     "schema_version": 1,
     "solution": true
    }
   },
   "outputs": [],
   "source": [
    "# YOUR CODE HERE\n",
    "s = sales.groupby(['State'])\n",
    "mean_s = s['SpendValue'].mean()"
   ]
  },
  {
   "cell_type": "markdown",
   "metadata": {
    "deletable": false,
    "editable": false,
    "nbgrader": {
     "checksum": "bddc3ccce056677e18683576ba497fc2",
     "grade": false,
     "grade_id": "cell-2048865556d3075a",
     "locked": true,
     "schema_version": 1,
     "solution": false
    }
   },
   "source": [
    "### Graphical Comparison of States\n",
    "\n",
    "Now *graph* your results, so that you can see them visually.\n",
    "\n",
    "NOTE: since the states in Australia have very different populations, you should also calculate and graph the number of customers *relative* to the population of each state (you can use Google to find populations of each state).\n",
    "\n",
    "So you should show at least the following three graphs:\n",
    "* the absolute number of customers in each state;\n",
    "* the number of customers in each state as a percentage of the population of that state;\n",
    "* the average SpendValue of customers in each state (dollars/customer)."
   ]
  },
  {
   "cell_type": "code",
   "execution_count": 53,
   "metadata": {
    "deletable": false,
    "nbgrader": {
     "checksum": "8faf0489b53ec64188bb44391e73da2e",
     "grade": true,
     "grade_id": "state_graph",
     "locked": false,
     "points": 5,
     "schema_version": 1,
     "solution": true
    }
   },
   "outputs": [
    {
     "data": {
      "image/png": "[encoded data removed]",
      "text/plain": [
       "<Figure size 432x288 with 1 Axes>"
      ]
     },
     "metadata": {
      "needs_background": "light"
     },
     "output_type": "display_data"
    },
    {
     "data": {
      "image/png": "[encoded data removed]",
      "text/plain": [
       "<Figure size 432x288 with 1 Axes>"
      ]
     },
     "metadata": {
      "needs_background": "light"
     },
     "output_type": "display_data"
    }
   ],
   "source": [
    "# YOUR CODE HERE\n",
    "## ploting graph of the absolute number of customers in each state;\n",
    "##the average SpendValue of customers in each state (dollars/customer)\n",
    "mean_s.plot(x ='State', y='SpendValue', kind = 'line')\n",
    "plt.show()\n",
    "count_cus = [0,0,0,0,0,0,0,0]\n",
    "for i in range (10000):\n",
    "     count_cus[sales.iloc[i, 13]] = count_cus[sales.iloc[i, 13]] + 1\n",
    "State_v = [0,1,2,3,4,5,6,7]\n",
    "plt.plot(State_v, count_cus)\n",
    "plt.xlabel('State Values')\n",
    "# naming the y axis\n",
    "plt.ylabel('Coustomer Count')\n",
    "plt.show()\n",
    "#raise NotImplementedError()"
   ]
  },
  {
   "cell_type": "markdown",
   "metadata": {
    "deletable": false,
    "editable": false,
    "nbgrader": {
     "checksum": "0b1e9db97925d4ebcc4c722fd8f24607",
     "grade": false,
     "grade_id": "cell-69d9b3e589675082",
     "locked": true,
     "schema_version": 1,
     "solution": false
    }
   },
   "source": [
    "### Question:\n",
    "Discuss these graphs and explain your conclusions.\n",
    "\n",
    "For example, are there *significant* differences in the average spend in different states?  Are our customer spread evenly across Australia, or concentrated in particular areas? \n",
    "\n",
    "Write your answer in the next cell, and give reasons for your conclusions."
   ]
  },
  {
   "cell_type": "markdown",
   "metadata": {
    "deletable": false,
    "nbgrader": {
     "checksum": "dceefa056e1646739ff0a0a5c1f49bc3",
     "grade": true,
     "grade_id": "state_discussion",
     "locked": false,
     "points": 5,
     "schema_version": 1,
     "solution": true
    }
   },
   "source": [
    "### Answer:\n",
    "\n",
    "YOUR ANSWER HERE"
   ]
  },
  {
   "cell_type": "code",
   "execution_count": null,
   "metadata": {},
   "outputs": [],
   "source": [
    "We can see in the graphs that mean spend value is different in different states.\n",
    "Highest Mean Spent value is at NSW and lowest is at ACT. Similary It can be seen from \n",
    "graphs that there is huge difference in count of customers in different states YOUR ANSWER HERE"
   ]
  },
  {
   "cell_type": "markdown",
   "metadata": {
    "deletable": false,
    "editable": false,
    "nbgrader": {
     "checksum": "14d556a2b969e8e00c39bcedb2f756ca",
     "grade": false,
     "grade_id": "cell-28db50ebb6228281",
     "locked": true,
     "schema_version": 1,
     "solution": false
    }
   },
   "source": [
    "---\n",
    "\n",
    "# Part C: Predicting Spending Levels (20 points)\n",
    "\n",
    "Using the LinearRegression function from the Scikit-Learn library (**sklearn**), build a machine learning model for predicting the expected **SpendValue** for a customer.  \n",
    "\n",
    "Measure the performance of your model using 10-fold cross-validation with a test set size of 20% and print various measures of how accurate your predictions are."
   ]
  },
  {
   "cell_type": "code",
   "execution_count": 54,
   "metadata": {},
   "outputs": [
    {
     "data": {
      "text/html": [
       "<div>\n",
       "<style scoped>\n",
       "    .dataframe tbody tr th:only-of-type {\n",
       "        vertical-align: middle;\n",
       "    }\n",
       "\n",
       "    .dataframe tbody tr th {\n",
       "        vertical-align: top;\n",
       "    }\n",
       "\n",
       "    .dataframe thead th {\n",
       "        text-align: right;\n",
       "    }\n",
       "</style>\n",
       "<table border=\"1\" class=\"dataframe\">\n",
       "  <thead>\n",
       "    <tr style=\"text-align: right;\">\n",
       "      <th></th>\n",
       "      <th>CustNum</th>\n",
       "      <th>Name</th>\n",
       "      <th>Sex</th>\n",
       "      <th>Age</th>\n",
       "      <th>State</th>\n",
       "      <th>Income</th>\n",
       "      <th>Clicks</th>\n",
       "      <th>LastSpend</th>\n",
       "      <th>Purchases</th>\n",
       "      <th>Spend</th>\n",
       "      <th>SpendValue</th>\n",
       "      <th>LastSpendValue</th>\n",
       "      <th>SexValue</th>\n",
       "      <th>StateValue</th>\n",
       "    </tr>\n",
       "  </thead>\n",
       "  <tbody>\n",
       "    <tr>\n",
       "      <th>0</th>\n",
       "      <td>0</td>\n",
       "      <td>Brandon Bender</td>\n",
       "      <td>male</td>\n",
       "      <td>67</td>\n",
       "      <td>NSW</td>\n",
       "      <td>120000</td>\n",
       "      <td>709</td>\n",
       "      <td>$2488.59</td>\n",
       "      <td>8</td>\n",
       "      <td>$1615.00</td>\n",
       "      <td>1615.0</td>\n",
       "      <td>2488.59</td>\n",
       "      <td>1</td>\n",
       "      <td>1</td>\n",
       "    </tr>\n",
       "    <tr>\n",
       "      <th>1</th>\n",
       "      <td>1</td>\n",
       "      <td>Andre Mccormick</td>\n",
       "      <td>male</td>\n",
       "      <td>38</td>\n",
       "      <td>VIC</td>\n",
       "      <td>140000</td>\n",
       "      <td>630</td>\n",
       "      <td>$4295.34</td>\n",
       "      <td>14</td>\n",
       "      <td>$1927.20</td>\n",
       "      <td>1927.2</td>\n",
       "      <td>4295.34</td>\n",
       "      <td>1</td>\n",
       "      <td>6</td>\n",
       "    </tr>\n",
       "    <tr>\n",
       "      <th>2</th>\n",
       "      <td>2</td>\n",
       "      <td>Ashley Smith</td>\n",
       "      <td>female</td>\n",
       "      <td>47</td>\n",
       "      <td>NSW</td>\n",
       "      <td>50000</td>\n",
       "      <td>554</td>\n",
       "      <td>$1986.09</td>\n",
       "      <td>8</td>\n",
       "      <td>$1660.80</td>\n",
       "      <td>1660.8</td>\n",
       "      <td>1986.09</td>\n",
       "      <td>0</td>\n",
       "      <td>1</td>\n",
       "    </tr>\n",
       "    <tr>\n",
       "      <th>3</th>\n",
       "      <td>3</td>\n",
       "      <td>Ann Riley</td>\n",
       "      <td>female</td>\n",
       "      <td>33</td>\n",
       "      <td>NSW</td>\n",
       "      <td>100000</td>\n",
       "      <td>309</td>\n",
       "      <td>$1532.64</td>\n",
       "      <td>10</td>\n",
       "      <td>$3041.10</td>\n",
       "      <td>3041.1</td>\n",
       "      <td>1532.64</td>\n",
       "      <td>0</td>\n",
       "      <td>1</td>\n",
       "    </tr>\n",
       "    <tr>\n",
       "      <th>4</th>\n",
       "      <td>4</td>\n",
       "      <td>Timothy Chavez</td>\n",
       "      <td>male</td>\n",
       "      <td>49</td>\n",
       "      <td>NSW</td>\n",
       "      <td>140000</td>\n",
       "      <td>520</td>\n",
       "      <td>$2082.08</td>\n",
       "      <td>8</td>\n",
       "      <td>$1764.40</td>\n",
       "      <td>1764.4</td>\n",
       "      <td>2082.08</td>\n",
       "      <td>1</td>\n",
       "      <td>1</td>\n",
       "    </tr>\n",
       "  </tbody>\n",
       "</table>\n",
       "</div>"
      ],
      "text/plain": [
       "   CustNum             Name     Sex  Age State  Income  Clicks LastSpend  \\\n",
       "0        0   Brandon Bender    male   67   NSW  120000     709  $2488.59   \n",
       "1        1  Andre Mccormick    male   38   VIC  140000     630  $4295.34   \n",
       "2        2     Ashley Smith  female   47   NSW   50000     554  $1986.09   \n",
       "3        3        Ann Riley  female   33   NSW  100000     309  $1532.64   \n",
       "4        4   Timothy Chavez    male   49   NSW  140000     520  $2082.08   \n",
       "\n",
       "   Purchases     Spend  SpendValue  LastSpendValue  SexValue  StateValue  \n",
       "0          8  $1615.00      1615.0         2488.59         1           1  \n",
       "1         14  $1927.20      1927.2         4295.34         1           6  \n",
       "2          8  $1660.80      1660.8         1986.09         0           1  \n",
       "3         10  $3041.10      3041.1         1532.64         0           1  \n",
       "4          8  $1764.40      1764.4         2082.08         1           1  "
      ]
     },
     "execution_count": 54,
     "metadata": {},
     "output_type": "execute_result"
    }
   ],
   "source": [
    "sales.head()"
   ]
  },
  {
   "cell_type": "code",
   "execution_count": 55,
   "metadata": {
    "deletable": false,
    "nbgrader": {
     "checksum": "21bc9fe7e9bfec0a1202fb6b2c3e2398",
     "grade": true,
     "grade_id": "linear_model",
     "locked": false,
     "points": 10,
     "schema_version": 1,
     "solution": true
    }
   },
   "outputs": [],
   "source": [
    "# YOUR CODE HERE\n",
    "## Forming Regression model\n",
    "reg = LinearRegression()\n",
    "X = sales['Clicks'].values\n",
    "Y = sales['SpendValue'].values\n",
    "X = X.reshape((10000,1))\n",
    "X_train = X[:7000]\n",
    "X_test = X[7000:10000]\n",
    "Y_train = Y[:7000]\n",
    "Y_test = Y[7000:10000]\n",
    "reg = reg.fit(X_train,Y_train)\n",
    "#raise NotImplementedError()"
   ]
  },
  {
   "cell_type": "markdown",
   "metadata": {
    "deletable": false,
    "editable": false,
    "nbgrader": {
     "checksum": "0fd7767c43cceab4ef450eac964c9d97",
     "grade": false,
     "grade_id": "cell-0a4b5a223c85b28b",
     "locked": true,
     "schema_version": 1,
     "solution": false
    }
   },
   "source": [
    "### Analysis of Results\n",
    "\n",
    "Print out the linear regression coefficients for all the input features, so that you can see which ones are more significant and which ones are unimportant.  \n",
    "\n",
    "Hint 1: Since the scale of the input features is so different (0-1 for sex, 0-160000 for income, etc) multiply the linear regression coefficients by the average value of the corresponding column, to see how many dollars that column contributes to the total predicated-spend answer.\n",
    "\n",
    "Hint 2: Could you graph the predicted and actual spendvalues of the test data, to visually see how good the linear regression results are?"
   ]
  },
  {
   "cell_type": "code",
   "execution_count": 56,
   "metadata": {
    "deletable": false,
    "nbgrader": {
     "checksum": "6ca31bc1a6d3cc3ac8d708905b271d08",
     "grade": true,
     "grade_id": "print_coefficients",
     "locked": false,
     "points": 5,
     "schema_version": 1,
     "solution": true
    }
   },
   "outputs": [
    {
     "name": "stdout",
     "output_type": "stream",
     "text": [
      "Coefficients: \n",
      " [-0.0394615]\n",
      "Mean squared error: 1416893.69\n",
      "Coefficient of determination: -0.00\n"
     ]
    },
    {
     "data": {
      "image/png": "[encoded data removed]",
      "text/plain": [
       "<Figure size 432x288 with 1 Axes>"
      ]
     },
     "metadata": {},
     "output_type": "display_data"
    }
   ],
   "source": [
    "# YOUR CODE HERE\n",
    "## Visualizing Regression \n",
    "y_pred = reg.predict(X_test)\n",
    "\n",
    "# The coefficients\n",
    "print('Coefficients: \\n', reg.coef_)\n",
    "# The mean squared error\n",
    "print('Mean squared error: %.2f'\n",
    "      % mean_squared_error(Y_test, y_pred))\n",
    "# The coefficient of determination: 1 is perfect prediction\n",
    "print('Coefficient of determination: %.2f'\n",
    "      % r2_score(Y_test, y_pred))\n",
    "\n",
    "# Plot outputs\n",
    "plt.scatter(X_test, Y_test,  color='black')\n",
    "plt.plot(X_test, y_pred, color='blue', linewidth=3)\n",
    "\n",
    "plt.xticks(())\n",
    "plt.yticks(())\n",
    "\n",
    "plt.show()\n",
    "#raise NotImplementedError()"
   ]
  },
  {
   "cell_type": "markdown",
   "metadata": {
    "deletable": false,
    "editable": false,
    "nbgrader": {
     "checksum": "bc14d16e6c7b576d57b83e215aeed5bf",
     "grade": false,
     "grade_id": "cell-28e263a7e0b03cb7",
     "locked": true,
     "schema_version": 1,
     "solution": false
    }
   },
   "source": [
    "### Discussion:\n",
    "\n",
    "Discuss your conclusions about this linear regression model (in the next cell).  Which input features are most significant?"
   ]
  },
  {
   "cell_type": "markdown",
   "metadata": {
    "deletable": false,
    "nbgrader": {
     "checksum": "d3acec970eaec9a4127898684bcfd6c9",
     "grade": true,
     "grade_id": "linear_discussion",
     "locked": false,
     "points": 5,
     "schema_version": 1,
     "solution": true
    }
   },
   "source": [
    "### Answer:\n",
    "YOUR ANSWER HERE"
   ]
  },
  {
   "cell_type": "code",
   "execution_count": null,
   "metadata": {},
   "outputs": [],
   "source": [
    "y_pred = reg.predict(X_test)\n",
    "\n",
    "The coefficients\n",
    "print('Coefficients: \\n', reg.coef_)\n",
    "\n",
    "The mean squared error\n",
    "print('Mean squared error: %.2f' % mean_squared_error(Y_test, y_pred))\n",
    "\n",
    "The coefficient of determination: 1 is perfect prediction\n",
    "print('Coefficient of determination: %.2f' % r2_score(Y_test, y_pred))\n",
    "\n",
    "Plot outputs\n",
    "plt.scatter(X_test, Y_test, color='black') plt.plot(X_test, y_pred, color='blue', linewidth=3)\n",
    "\n",
    "plt.xticks(()) plt.yticks(())\n",
    "\n",
    "plt.show()"
   ]
  },
  {
   "cell_type": "markdown",
   "metadata": {
    "deletable": false,
    "editable": false,
    "nbgrader": {
     "checksum": "71957761da5a7dc8ccb3daa207ca2693",
     "grade": false,
     "grade_id": "cell-d9b3cf72bb30a5ec",
     "locked": true,
     "schema_version": 1,
     "solution": false
    }
   },
   "source": [
    "---\n",
    "# Part D: Predicting Big Spenders (20 points)\n",
    "\n",
    "In this section we want to build some machine learning models predict if a new customer is likely to be a big spender or not.  This will be a binary outcome (yes or no), so we can use machine learning *classification* algorithms.\n",
    "\n",
    "Remember that our definition of 'Big-Spender' is that it is a client whose annual spending level (**SpendValue**) is in the top 25% of our clients.  So the exact dollar cutoff for big spenders will be different for each student, as each of you are working for a different company and are using a different dataset.\n",
    "\n",
    "Choose two classification algorithms.  Use each one to build and then evaluate a 'big-spender' prediction model."
   ]
  },
  {
   "cell_type": "code",
   "execution_count": 57,
   "metadata": {
    "deletable": false,
    "nbgrader": {
     "checksum": "6730b4462b0ad03ca0a417e92ac293d0",
     "grade": true,
     "grade_id": "big_spenders",
     "locked": false,
     "points": 15,
     "schema_version": 1,
     "solution": true
    }
   },
   "outputs": [
    {
     "name": "stdout",
     "output_type": "stream",
     "text": [
      "      SpendValue  Purchases\n",
      "1979     1209.00          5\n",
      "2426      923.95          7\n"
     ]
    },
    {
     "data": {
      "image/png": "[encoded data removed]",
      "text/plain": [
       "<Figure size 432x288 with 1 Axes>"
      ]
     },
     "metadata": {
      "needs_background": "light"
     },
     "output_type": "display_data"
    },
    {
     "data": {
      "image/png": "[encoded data removed]",
      "text/plain": [
       "<Figure size 432x288 with 1 Axes>"
      ]
     },
     "metadata": {
      "needs_background": "light"
     },
     "output_type": "display_data"
    }
   ],
   "source": [
    "# YOUR CODE HERE\n",
    "## Applying K-means algorithm \n",
    "X = sales[[\"SpendValue\",\"Purchases\"]].head(2500)\n",
    "K = 2\n",
    "Centroids = (X.sample(n=K))\n",
    "print (Centroids)\n",
    "plt.scatter(X[\"Purchases\"],X[\"SpendValue\"], c = 'black')\n",
    "plt.scatter(Centroids[\"Purchases\"],Centroids[\"SpendValue\"], c = 'red')\n",
    "plt.xlabel('Purchases')\n",
    "plt.ylabel('Spend Value')\n",
    "plt.show()\n",
    "diff = 1\n",
    "j=0\n",
    "\n",
    "while(diff!=0):\n",
    "    XD=X\n",
    "    i=1\n",
    "    for index1,row_c in Centroids.iterrows():\n",
    "        ED=[]\n",
    "        for index2,row_d in XD.iterrows():\n",
    "            d1=(row_c[\"Purchases\"]-row_d[\"Purchases\"])**2\n",
    "            d2=(row_c[\"SpendValue\"]-row_d[\"SpendValue\"])**2\n",
    "            d=np.sqrt(d1+d2)\n",
    "            ED.append(d)\n",
    "        X[i]=ED\n",
    "        i=i+1\n",
    "\n",
    "    C=[]\n",
    "    for index,row in X.iterrows():\n",
    "        min_dist=row[1]\n",
    "        pos = 1\n",
    "        for i in range(K):\n",
    "            if row[i + 1] < min_dist:\n",
    "                min_dist = row[i + 1]\n",
    "                pos = i + 1\n",
    "        C.append(pos)\n",
    "    X[\"Cluster\"] = C\n",
    "    Centroids_new = X.groupby([\"Cluster\"]).mean()[[\"Purchases\", \"SpendValue\"]]\n",
    "    if j == 0:\n",
    "        diff = 1\n",
    "        j = j + 1\n",
    "    else:\n",
    "        diff = (Centroids_new['SpendValue'] - Centroids['SpendValue']).sum() + (\n",
    "                    Centroids_new['Purchases'] - Centroids['Purchases']).sum()\n",
    "    Centroids = X.groupby([\"Cluster\"]).mean()[[\"Purchases\", \"SpendValue\"]]\n",
    "color=['blue','green','cyan']\n",
    "for k in range(K):\n",
    "    data=X[X[\"Cluster\"]==k+1]\n",
    "    plt.scatter(data[\"Purchases\"],data[\"SpendValue\"],c=color[k])\n",
    "plt.scatter(Centroids[\"Purchases\"],Centroids[\"SpendValue\"],c='red')\n",
    "plt.xlabel('Purchases')\n",
    "plt.ylabel('SpendValue (In dollars)')\n",
    "plt.show()\n",
    "#raise NotImplementedError()"
   ]
  },
  {
   "cell_type": "markdown",
   "metadata": {
    "deletable": false,
    "editable": false,
    "nbgrader": {
     "checksum": "d1a007969cf93d86fbb5b450cfe72bb6",
     "grade": false,
     "grade_id": "classifier_questions",
     "locked": true,
     "schema_version": 1,
     "solution": false
    }
   },
   "source": [
    "### Discussion:\n",
    "\n",
    "Discuss your conclusions about your two classification models (in the next cell).\n",
    "\n",
    "Which classification algorithm gives the more accurate results? \n",
    "\n",
    "How accurate are the results from your best classifier?"
   ]
  },
  {
   "cell_type": "markdown",
   "metadata": {
    "deletable": false,
    "nbgrader": {
     "checksum": "7eb904e6af434d90d9daf95ac32f7407",
     "grade": true,
     "grade_id": "classification_discussion",
     "locked": false,
     "points": 5,
     "schema_version": 1,
     "solution": true
    }
   },
   "source": [
    "### Answer:\n",
    "YOUR ANSWER HERE"
   ]
  },
  {
   "cell_type": "code",
   "execution_count": null,
   "metadata": {},
   "outputs": [],
   "source": [
    "I have used K means algorithm to classify between Big spenders and less spenders It can be seen in graphs. YOUR ANSWER HERE"
   ]
  },
  {
   "cell_type": "markdown",
   "metadata": {
    "deletable": false,
    "editable": false,
    "nbgrader": {
     "checksum": "c22a525adfb6b35a991089b305180f1a",
     "grade": false,
     "grade_id": "cell-1929850feacf929b",
     "locked": true,
     "schema_version": 1,
     "solution": false
    }
   },
   "source": [
    "---\n",
    "# Part E: Business Recommendations (10 points)\n",
    "\n",
    "The company you are doing this analysis for wants some recommendations from you about how to find new customers who are likely to be big spenders.  They are wondering if they should focus their advertising on a particular gender?  Or people in a given state, such as Victoria, or NSW?  Or aim at demographic groups who have high income level or medium income levels?  Or other strategies?  What recommendations will you give them?  \n",
    "\n",
    "Write about 100 words describing your conclusions from your analysis, and your recommendations for the best strategy for attracting new big-spender customers."
   ]
  },
  {
   "cell_type": "markdown",
   "metadata": {
    "deletable": false,
    "nbgrader": {
     "checksum": "431ae6f33830241660636295628df330",
     "grade": true,
     "grade_id": "business_recommendations",
     "locked": false,
     "points": 10,
     "schema_version": 1,
     "solution": true
    }
   },
   "source": [
    "## Recommendations:\n",
    "YOUR ANSWER HERE"
   ]
  },
  {
   "cell_type": "code",
   "execution_count": null,
   "metadata": {},
   "outputs": [],
   "source": [
    "##It is seen by linear regression that as the number of clicks increase the big spender increases so we need to do better marketing \n",
    "##so that our number clicks increases"
   ]
  },
  {
   "cell_type": "code",
   "execution_count": null,
   "metadata": {},
   "outputs": [],
   "source": [
    "##Also we need to put more attention to NSW state where the big spenders are in large ammount. So that we serve them better and it \n",
    "##will attract others to spend big in this state.\n",
    "## Also number of purchases are also directly proportional to spend values."
   ]
  }
 ],
 "metadata": {
  "kernelspec": {
   "display_name": "Python 3",
   "language": "python",
   "name": "python3"
  },
  "language_info": {
   "codemirror_mode": {
    "name": "ipython",
    "version": 3
   },
   "file_extension": ".py",
   "mimetype": "text/x-python",
   "name": "python",
   "nbconvert_exporter": "python",
   "pygments_lexer": "ipython3",
   "version": "3.7.6"
  }
 },
 "nbformat": 4,
 "nbformat_minor": 2
}
